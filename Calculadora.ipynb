{
  "nbformat": 4,
  "nbformat_minor": 0,
  "metadata": {
    "colab": {
      "name": "Untitled7.ipynb",
      "provenance": [],
      "authorship_tag": "ABX9TyNkVA40tvBYnivRkv6E8fUs",
      "include_colab_link": true
    },
    "kernelspec": {
      "name": "python3",
      "display_name": "Python 3"
    },
    "language_info": {
      "name": "python"
    }
  },
  "cells": [
    {
      "cell_type": "markdown",
      "metadata": {
        "id": "view-in-github",
        "colab_type": "text"
      },
      "source": [
        "<a href=\"https://colab.research.google.com/github/AlexandreSPSantos/Python1/blob/master/Calculadora.ipynb\" target=\"_parent\"><img src=\"https://colab.research.google.com/assets/colab-badge.svg\" alt=\"Open In Colab\"/></a>"
      ]
    },
    {
      "cell_type": "code",
      "metadata": {
        "id": "ly-kSB_oQ9mk"
      },
      "source": [
        "  if (oper==1):\n",
        "    sinal = '+'\n",
        " "
      ],
      "execution_count": null,
      "outputs": []
    },
    {
      "cell_type": "code",
      "metadata": {
        "colab": {
          "base_uri": "https://localhost:8080/",
          "height": 86
        },
        "id": "oJ9zGyqZREmm",
        "outputId": "c58820bc-3846-4d83-ce40-b455b89a48b5"
      },
      "source": [
        "oper = int(input(\"Informe 1 - Soma 2 - Subtracao 3 - multiplicacao 3 - divisao 5 potencia 6 - modulo\"))\n",
        "n1 = float(input(\"Informe o primeiro número \"))\n",
        "n2 = float(input(\"Informe o segundo número \"))\n",
        "def calc(oper, n1,n2):\n",
        "  sinal = 0 \n",
        "  if (oper==1):\n",
        "    sinal = '+'\n",
        "  elif (oper==2):\n",
        "    sinal = '-'\n",
        "  elif (oper==3):\n",
        "    sinal = '*'\n",
        "  elif (oper==4):\n",
        "    sinal = '/'\n",
        "  elif (oper==5):\n",
        "    sinal = '^'\n",
        "  elif (oper==6):\n",
        "    sinal = '%'\n",
        "  calc = str(n1) + \" \" + sinal + \" \" + str(n2)  \n",
        "  return(calc) \n",
        "\n",
        "calc(oper, n1, n2)  "
      ],
      "execution_count": 10,
      "outputs": [
        {
          "name": "stdout",
          "output_type": "stream",
          "text": [
            "Informe 1 - Soma 2 - Subtracao 3 - multiplicacao 3 - divisao 5 potencia 6 - modulo1\n",
            "Informe o primeiro número 1\n",
            "Informe o segundo número 1\n"
          ]
        },
        {
          "output_type": "execute_result",
          "data": {
            "application/vnd.google.colaboratory.intrinsic+json": {
              "type": "string"
            },
            "text/plain": [
              "'1.0 + 1.0'"
            ]
          },
          "metadata": {},
          "execution_count": 10
        }
      ]
    }
  ]
}